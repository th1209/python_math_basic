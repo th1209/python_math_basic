{
 "cells": [
  {
   "cell_type": "markdown",
   "metadata": {
    "collapsed": true
   },
   "source": [
    "#### 基本的な統計を求める"
   ]
  },
  {
   "cell_type": "code",
   "execution_count": 2,
   "metadata": {},
   "outputs": [],
   "source": [
    "from collections import Counter\n",
    "\n",
    "from matplotlib import pyplot\n",
    "\n",
    "from utilities.statistics import calc_mean\n",
    "from utilities.statistics import calc_median\n",
    "from utilities.statistics import calc_mode\n",
    "from utilities.statistics import calc_variance\n",
    "from utilities.statistics import calc_standard_deviation\n",
    "from utilities.statistics import calc_correlation"
   ]
  },
  {
   "cell_type": "markdown",
   "metadata": {},
   "source": [
    "#### 簡単な統計を求める"
   ]
  },
  {
   "cell_type": "code",
   "execution_count": 3,
   "metadata": {},
   "outputs": [],
   "source": [
    "# 適当な寄付金のリストを仮定する。以下例では、このデータを使いまわす。\n",
    "donations = [100, 60, 70, 900, 100, 200, 500, 500, 503, 600, 1000, 1200]"
   ]
  },
  {
   "cell_type": "code",
   "execution_count": 4,
   "metadata": {},
   "outputs": [
    {
     "name": "stdout",
     "output_type": "stream",
     "text": [
      "mean:   477.75\nmedian: 350.0\nmode:   [(100, 2), (500, 2)]\n"
     ]
    }
   ],
   "source": [
    "# 平均、中央値、最頻値を出してみる。\n",
    "print('mean:   {0}'.format(calc_mean(donations)))\n",
    "print('median: {0}'.format(calc_median(donations)))\n",
    "print('mode:   {0}'.format(calc_mode(donations)))"
   ]
  },
  {
   "cell_type": "code",
   "execution_count": 5,
   "metadata": {},
   "outputs": [
    {
     "name": "stdout",
     "output_type": "stream",
     "text": [
      "100 2\n500 2\n1200 1\n600 1\n900 1\n1000 1\n70 1\n503 1\n200 1\n60 1\n"
     ]
    }
   ],
   "source": [
    "# 度数分布を出してみる。\n",
    "numbers = Counter(donations).most_common()\n",
    "for number in numbers:\n",
    "    print('{0} {1}'.format(number[0], number[1]))"
   ]
  },
  {
   "cell_type": "markdown",
   "metadata": {},
   "source": [
    "#### 分散と標準偏差"
   ]
  },
  {
   "cell_type": "code",
   "execution_count": 6,
   "metadata": {},
   "outputs": [
    {
     "name": "stdout",
     "output_type": "stream",
     "text": [
      "variance:   141047.35416666666\nstandard deviation: 375.5627166887931\n"
     ]
    }
   ],
   "source": [
    "# 分散と標準偏差を求める。\n",
    "print('variance:   {0}'.format(calc_variance(donations)))\n",
    "print('standard deviation: {0}'.format(calc_standard_deviation(donations)))"
   ]
  },
  {
   "cell_type": "markdown",
   "metadata": {},
   "source": [
    "#### 相関係数\n",
    "* 求め方を復習すると、(共分散) / ((xの標準偏差) * (yの標準偏差))"
   ]
  },
  {
   "cell_type": "code",
   "execution_count": 7,
   "metadata": {},
   "outputs": [],
   "source": [
    "def show_scatter(x_list, y_list, title='', x_label='', y_label=''):\n",
    "    \"\"\"簡単な散布図を描画する。\"\"\"\n",
    "    \n",
    "    # scatter()で、散布図を描画できる。\n",
    "    pyplot.scatter(x_list, y_list)\n",
    "    \n",
    "    # オプション設定\n",
    "    if len(title) > 0:\n",
    "        pyplot.title(title)\n",
    "    if len(x_label) > 0:\n",
    "        pyplot.xlabel(x_label)\n",
    "    if len(y_label) > 0:\n",
    "        pyplot.ylabel(y_label)\n",
    "    \n",
    "    pyplot.show()"
   ]
  },
  {
   "cell_type": "code",
   "execution_count": 8,
   "metadata": {},
   "outputs": [
    {
     "name": "stdout",
     "output_type": "stream",
     "text": [
      "0.3183785775683752\n"
     ]
    },
    {
     "data": {
      "image/png": "[encoded data removed]",
      "text/plain": [
       "<matplotlib.figure.Figure at 0x1136b0ef0>"
      ]
     },
     "metadata": {},
     "output_type": "display_data"
    }
   ],
   "source": [
    "# 高校の全教科の成績と、大学入試の全教科の成績の相関を取ってみる\n",
    "high_school_score   = [90, 92, 95, 96, 87, 87, 90, 95, 98, 96]\n",
    "entrance_exam_score = [85, 87, 86, 97, 96, 88, 89, 98, 98, 87]\n",
    "print(calc_correlation(high_school_score, entrance_exam_score))\n",
    "show_scatter(\n",
    "    high_school_score,\n",
    "    entrance_exam_score,\n",
    "    'Correlation between high school general score and university entrance exam score',\n",
    "    'high school general score',\n",
    "    'university entrance exam score'\n",
    ")"
   ]
  },
  {
   "cell_type": "code",
   "execution_count": 9,
   "metadata": {},
   "outputs": [
    {
     "name": "stdout",
     "output_type": "stream",
     "text": [
      "0.998963306322092\n"
     ]
    },
    {
     "data": {
      "image/png": "[encoded data removed]",
      "text/plain": [
       "<matplotlib.figure.Figure at 0x113789d30>"
      ]
     },
     "metadata": {},
     "output_type": "display_data"
    }
   ],
   "source": [
    "# 今度は、高校の数学の成績と、大学入試の全教科の成績の相関を取ってみる\n",
    "high_school_math_score = [83, 85, 84, 96, 94, 86, 87, 97, 97, 85]\n",
    "print(calc_correlation(high_school_math_score, entrance_exam_score))\n",
    "show_scatter(\n",
    "    high_school_math_score,\n",
    "    entrance_exam_score,\n",
    "    'Correlation between high school math score and university entrance exam score',\n",
    "    'high school math score',\n",
    "    'university entrance exam score'\n",
    ")"
   ]
  },
  {
   "cell_type": "code",
   "execution_count": null,
   "metadata": {},
   "outputs": [],
   "source": [
    ""
   ]
  }
 ],
 "metadata": {
  "kernelspec": {
   "display_name": "Python 2",
   "language": "python",
   "name": "python2"
  },
  "language_info": {
   "codemirror_mode": {
    "name": "ipython",
    "version": 2.0
   },
   "file_extension": ".py",
   "mimetype": "text/x-python",
   "name": "python",
   "nbconvert_exporter": "python",
   "pygments_lexer": "ipython2",
   "version": "2.7.6"
  }
 },
 "nbformat": 4,
 "nbformat_minor": 0
}