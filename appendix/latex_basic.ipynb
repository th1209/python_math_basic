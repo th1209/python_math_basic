{
 "cells": [
  {
   "cell_type": "markdown",
   "metadata": {},
   "source": [
    "#### jupyter notebookにおけるlatexの基本\n",
    "* 先頭と終了を$$で囲む\n",
    "* 改行は \\\\\n",
    "* セルのモードはマークダウンモード\n",
    "* MathJax\n",
    "\n",
    "#### 参考\n",
    "* [LaTeXの書き方](https://rat.cis.k.hosei.ac.jp/article/rat/latex.html)\n",
    "  * 詳細に記法が書いてある。今のところ、足りないのは数学記号くらい...?\n",
    "* [LaTeX入門 数学記号](https://medemanabu.net/latex/operators/)\n",
    "  * 数学記号の記載は、上記URLで補う。\n",
    "\n",
    "#### 注意事項\n",
    "* pycharm上のjupyter notebookでlatexを書くと、一部表示がおかしくなる模様...。"
   ]
  },
  {
   "cell_type": "markdown",
   "metadata": {},
   "source": [
    "#### 等号・不等号"
   ]
  },
  {
   "cell_type": "markdown",
   "metadata": {},
   "source": [
    "$\n",
    "a = b \\\\\n",
    "a \\neq b \\\\\n",
    "a \\equiv b \\\\\n",
    "a > b \\\\\n",
    "a \\geqq b \\\\\n",
    "a \\geq b \\\\\n",
    "a < b \\\\\n",
    "a \\leqq b \\\\\n",
    "a \\leq b \\\\\n",
    "$"
   ]
  },
  {
   "cell_type": "markdown",
   "metadata": {},
   "source": [
    "$\n",
    "表示例 \\\\\n",
    "a = b \\\\\n",
    "a \\neq b \\\\\n",
    "a \\equiv b \\\\\n",
    "a > b \\\\\n",
    "a \\geqq b \\\\\n",
    "a \\geq b \\\\\n",
    "a < b \\\\\n",
    "a \\leqq b \\\\\n",
    "a \\leq b \\\\\n",
    "$"
   ]
  },
  {
   "cell_type": "markdown",
   "metadata": {},
   "source": [
    "####  解の公式\n",
    "* 解の公式を書いてみる。\n",
    "* この例で、以下のような記号の書き方が分かるはず。\n",
    "  * 平方根\n",
    "  * 分数表記\n",
    "  * 指数表記\n",
    "  * +-表記"
   ]
  },
  {
   "cell_type": "markdown",
   "metadata": {},
   "source": [
    "$\n",
    "x = \\frac{-b \\pm\\sqrt{b^{2} - 4ac}}{2a}\n",
    "$"
   ]
  },
  {
   "cell_type": "markdown",
   "metadata": {},
   "source": [
    "$\n",
    "x = \\frac{-b \\pm\\sqrt{b^{2} - 4ac}}{2a}\n",
    "$"
   ]
  },
  {
   "cell_type": "markdown",
   "metadata": {},
   "source": [
    "#### サイン・コサイン・タンジェント"
   ]
  },
  {
   "cell_type": "markdown",
   "metadata": {},
   "source": [
    "$\n",
    "\\sin\\theta \\\\\n",
    "\\cos\\theta \\\\\n",
    "\\tan\\theta \\\\\n",
    "$"
   ]
  },
  {
   "cell_type": "markdown",
   "metadata": {},
   "source": [
    "$\n",
    "\\sin\\theta \\\\\n",
    "\\cos\\theta \\\\\n",
    "\\tan\\theta \\\\\n",
    "$"
   ]
  },
  {
   "cell_type": "code",
   "execution_count": null,
   "metadata": {
    "collapsed": true
   },
   "outputs": [],
   "source": [
    ""
   ]
  }
 ],
 "metadata": {
  "kernelspec": {
   "display_name": "Python 3",
   "language": "python",
   "name": "python3"
  },
  "language_info": {
   "codemirror_mode": {
    "name": "ipython",
    "version": 3.0
   },
   "file_extension": ".py",
   "mimetype": "text/x-python",
   "name": "python",
   "nbconvert_exporter": "python",
   "pygments_lexer": "ipython3",
   "version": "3.5.0"
  }
 },
 "nbformat": 4,
 "nbformat_minor": 0
}