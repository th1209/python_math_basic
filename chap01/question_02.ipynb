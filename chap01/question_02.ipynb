{
 "cells": [
  {
   "cell_type": "markdown",
   "metadata": {},
   "source": [
    "#### 問題1-2\n",
    "* 入力した整数に対する、倍数表を表示する。\n",
    "* 第二引数を渡すことで、倍数の表示回数を制御できる。"
   ]
  },
  {
   "cell_type": "code",
   "execution_count": 7,
   "metadata": {},
   "outputs": [
    {
     "ename": "SyntaxError",
     "evalue": "EOF while scanning triple-quoted string literal (<ipython-input-7-a9809c20ec02>, line 7)",
     "traceback": [
      "\u001b[0;36m  File \u001b[0;32m\"<ipython-input-7-a9809c20ec02>\"\u001b[0;36m, line \u001b[0;32m7\u001b[0m\n\u001b[0;31m    return False\u001b[0m\n\u001b[0m                \n^\u001b[0m\n\u001b[0;31mSyntaxError\u001b[0m\u001b[0;31m:\u001b[0m EOF while scanning triple-quoted string literal\n"
     ],
     "output_type": "error"
    }
   ],
   "source": [
    "def is_valid_integer(x):\n",
    "    if isinstance(x, int):\n",
    "        return True\n",
    "    if isinstance(x, float):\n",
    "        return x.is_integer()\n",
    "    return False"
   ]
  },
  {
   "cell_type": "code",
   "execution_count": 2,
   "metadata": {},
   "outputs": [],
   "source": [
    "def print_multi_table(x, count=10):\n",
    "    for i in range(1, count+1):\n",
    "        print('{0} x {1} = {2}'.format(x, i, x * i))"
   ]
  },
  {
   "cell_type": "code",
   "execution_count": 3,
   "metadata": {},
   "outputs": [],
   "source": [
    "def question2(x, count=10):\n",
    "    print('input integer: ')\n",
    "    \n",
    "    if not is_valid_integer(x):\n",
    "        print('{0} is invalid integer.'.format(x))\n",
    "        return\n",
    "    \n",
    "    if isinstance(x, float):\n",
    "        x = int(x)\n",
    "\n",
    "    print_multi_table(x, count)"
   ]
  },
  {
   "cell_type": "code",
   "execution_count": 4,
   "metadata": {},
   "outputs": [
    {
     "name": "stdout",
     "output_type": "stream",
     "text": [
      "input integer: \n1 x 1 = 1\n1 x 2 = 2\n1 x 3 = 3\n1 x 4 = 4\n1 x 5 = 5\n1 x 6 = 6\n1 x 7 = 7\n1 x 8 = 8\n1 x 9 = 9\n1 x 10 = 10\n1 x 11 = 11\n1 x 12 = 12\n1 x 13 = 13\n1 x 14 = 14\n1 x 15 = 15\n1 x 16 = 16\n1 x 17 = 17\n1 x 18 = 18\n1 x 19 = 19\n1 x 20 = 20\n"
     ]
    }
   ],
   "source": [
    "question2(1.0, 20)"
   ]
  },
  {
   "cell_type": "code",
   "execution_count": null,
   "metadata": {},
   "outputs": [],
   "source": [
    ""
   ]
  }
 ],
 "metadata": {
  "kernelspec": {
   "display_name": "Python 2",
   "language": "python",
   "name": "python2"
  },
  "language_info": {
   "codemirror_mode": {
    "name": "ipython",
    "version": 2.0
   },
   "file_extension": ".py",
   "mimetype": "text/x-python",
   "name": "python",
   "nbconvert_exporter": "python",
   "pygments_lexer": "ipython2",
   "version": "2.7.6"
  }
 },
 "nbformat": 4,
 "nbformat_minor": 0
}