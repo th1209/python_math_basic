{
 "cells": [
  {
   "cell_type": "markdown",
   "metadata": {},
   "source": [
    "#### 問題1-3\n",
    "* キログラム <--> ポンドの変換処理を作成する。\n",
    "* 摂氏 <--> 華氏の変換処理を作成する。"
   ]
  },
  {
   "cell_type": "code",
   "execution_count": 1,
   "metadata": {},
   "outputs": [],
   "source": [
    "from utilities.unit_converter import kilograms_pounds\n",
    "from utilities.unit_converter import pounds_kilograms\n",
    "from utilities.unit_converter import celsius_fahrenheit\n",
    "from utilities.unit_converter import fahrenheit_celsius"
   ]
  },
  {
   "cell_type": "code",
   "execution_count": 2,
   "metadata": {},
   "outputs": [
    {
     "name": "stdout",
     "output_type": "stream",
     "text": [
      "7.716169999999999\n2.4947610018960185\n1.0\n"
     ]
    }
   ],
   "source": [
    "print(kilograms_pounds(3.5))\n",
    "print(pounds_kilograms(5.5))\n",
    "print(pounds_kilograms(kilograms_pounds(1)))"
   ]
  },
  {
   "cell_type": "code",
   "execution_count": 3,
   "metadata": {},
   "outputs": [
    {
     "name": "stdout",
     "output_type": "stream",
     "text": [
      "59.0\n37.77777777777778\n0.9999999999999984\n"
     ]
    }
   ],
   "source": [
    "print(celsius_fahrenheit(15))\n",
    "print(fahrenheit_celsius(100))\n",
    "print(fahrenheit_celsius(celsius_fahrenheit(1)))"
   ]
  },
  {
   "cell_type": "code",
   "execution_count": null,
   "metadata": {},
   "outputs": [],
   "source": [
    ""
   ]
  }
 ],
 "metadata": {
  "kernelspec": {
   "display_name": "Python 2",
   "language": "python",
   "name": "python2"
  },
  "language_info": {
   "codemirror_mode": {
    "name": "ipython",
    "version": 2.0
   },
   "file_extension": ".py",
   "mimetype": "text/x-python",
   "name": "python",
   "nbconvert_exporter": "python",
   "pygments_lexer": "ipython2",
   "version": "2.7.6"
  }
 },
 "nbformat": 4,
 "nbformat_minor": 0
}