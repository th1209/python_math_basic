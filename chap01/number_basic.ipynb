{
 "cells": [
  {
   "cell_type": "markdown",
   "metadata": {
    "collapsed": true
   },
   "source": [
    "#### 除算"
   ]
  },
  {
   "cell_type": "code",
   "execution_count": 1,
   "metadata": {},
   "outputs": [
    {
     "name": "stdout",
     "output_type": "stream",
     "text": [
      "1.5\n2.0\n0.0\n"
     ]
    }
   ],
   "source": [
    "# 結果は必ずfloat\n",
    "print(3 / 2)\n",
    "print(4 / 2)\n",
    "print(0 / 2)"
   ]
  },
  {
   "cell_type": "code",
   "execution_count": 2,
   "metadata": {},
   "outputs": [
    {
     "name": "stdout",
     "output_type": "stream",
     "text": [
      "1\n-2\n"
     ]
    }
   ],
   "source": [
    "# 小数点を切り捨てたい場合、//演算子を使う\n",
    "print(3//2)\n",
    "\n",
    "# 負数の場合に注意\n",
    "print(-3//2)"
   ]
  },
  {
   "cell_type": "markdown",
   "metadata": {},
   "source": [
    "#### べき乗"
   ]
  },
  {
   "cell_type": "code",
   "execution_count": 3,
   "metadata": {},
   "outputs": [
    {
     "name": "stdout",
     "output_type": "stream",
     "text": [
      "4\n1024\n"
     ]
    }
   ],
   "source": [
    "# べき乗\n",
    "print(2 ** 2)\n",
    "print(2 ** 10)"
   ]
  },
  {
   "cell_type": "code",
   "execution_count": 4,
   "metadata": {},
   "outputs": [
    {
     "name": "stdout",
     "output_type": "stream",
     "text": [
      "1.4142135623730951\n1.2599210498948732\n"
     ]
    }
   ],
   "source": [
    "# 平方根や立方根\n",
    "print(2 ** (1/2))\n",
    "print(2 ** (1/3))"
   ]
  },
  {
   "cell_type": "markdown",
   "metadata": {},
   "source": [
    "#### 型表示とキャスト"
   ]
  },
  {
   "cell_type": "code",
   "execution_count": 5,
   "metadata": {},
   "outputs": [
    {
     "name": "stdout",
     "output_type": "stream",
     "text": [
      "<class 'int'>\n<class 'float'>\n<class 'str'>\n<class 'bool'>\n"
     ]
    }
   ],
   "source": [
    "# 型の判定\n",
    "print(type(3))\n",
    "print(type(3.0))\n",
    "print(type('3'))\n",
    "print(type(True))"
   ]
  },
  {
   "cell_type": "code",
   "execution_count": 6,
   "metadata": {},
   "outputs": [
    {
     "name": "stdout",
     "output_type": "stream",
     "text": [
      "3\n3.0\n"
     ]
    }
   ],
   "source": [
    "# キャスト\n",
    "print(int(3.5))\n",
    "print(float(3))"
   ]
  },
  {
   "cell_type": "markdown",
   "metadata": {},
   "source": [
    "#### 分数"
   ]
  },
  {
   "cell_type": "code",
   "execution_count": 7,
   "metadata": {},
   "outputs": [],
   "source": [
    "# Fractionクラスのインポートが必要\n",
    "from fractions import Fraction"
   ]
  },
  {
   "cell_type": "code",
   "execution_count": 8,
   "metadata": {},
   "outputs": [
    {
     "name": "stdout",
     "output_type": "stream",
     "text": [
      "3/4\n3/4\n"
     ]
    }
   ],
   "source": [
    "# Fractionインスタンスの生成\n",
    "print(Fraction(3, 4))\n",
    "\n",
    "# 文字列形式でのインスタンス生成もできる(空白を含まないように!)\n",
    "print(Fraction('3/4'))"
   ]
  },
  {
   "cell_type": "code",
   "execution_count": 9,
   "metadata": {},
   "outputs": [
    {
     "name": "stdout",
     "output_type": "stream",
     "text": [
      "13/4\n1/4\n1\n3.25\n<class 'float'>\n"
     ]
    }
   ],
   "source": [
    "# 基本的な演算\n",
    "print(Fraction(3, 4) + 1 + Fraction(3, 2))\n",
    "print(Fraction(1, 2) * Fraction(1, 2))\n",
    "print(Fraction(1, 2) / Fraction(1, 2))\n",
    "\n",
    "# floatを含んだ演算では、float値にキャストされる\n",
    "print(Fraction(3, 4) + 1 + 1.5)\n",
    "print(type(Fraction(1, 2) + 0.5))"
   ]
  },
  {
   "cell_type": "markdown",
   "metadata": {},
   "source": [
    "#### 虚数"
   ]
  },
  {
   "cell_type": "code",
   "execution_count": 10,
   "metadata": {},
   "outputs": [
    {
     "name": "stdout",
     "output_type": "stream",
     "text": [
      "(1+2j)\n(1+2j)\n"
     ]
    }
   ],
   "source": [
    "# インスタンスの生成(pythonでは、虚部をjで表す)\n",
    "print(complex(1, 2))\n",
    "\n",
    "# 文字列での生成も可能(Fractionと同じで、空白はNG)\n",
    "print(complex('1+2J'))"
   ]
  },
  {
   "cell_type": "code",
   "execution_count": 11,
   "metadata": {},
   "outputs": [
    {
     "name": "stdout",
     "output_type": "stream",
     "text": [
      "4j\n(-7+24j)\n"
     ]
    }
   ],
   "source": [
    "# 複素数の計算\n",
    "print(complex(1, 2) + complex(-1, 2))\n",
    "print(complex(3, 4) * complex(3, 4))"
   ]
  },
  {
   "cell_type": "code",
   "execution_count": 12,
   "metadata": {},
   "outputs": [
    {
     "name": "stdout",
     "output_type": "stream",
     "text": [
      "(1-2j)\n(5+0j)\n"
     ]
    }
   ],
   "source": [
    "# 共役複素数の取得\n",
    "print(complex(1, 2).conjugate())\n",
    "print(complex(1, 2) * complex(1, 2).conjugate())"
   ]
  },
  {
   "cell_type": "code",
   "execution_count": 13,
   "metadata": {},
   "outputs": [
    {
     "name": "stdout",
     "output_type": "stream",
     "text": [
      "2.23606797749979\n2.23606797749979\n"
     ]
    }
   ],
   "source": [
    "cmp = complex(1, -2)\n",
    "\n",
    "# 複素数の大きさを求める\n",
    "print((cmp.real ** 2 + cmp.imag ** 2) ** (1/2))\n",
    "\n",
    "# absでも大きさを取れる\n",
    "print(abs(cmp))"
   ]
  },
  {
   "cell_type": "code",
   "execution_count": null,
   "metadata": {},
   "outputs": [],
   "source": [
    ""
   ]
  }
 ],
 "metadata": {
  "kernelspec": {
   "display_name": "Python 2",
   "language": "python",
   "name": "python2"
  },
  "language_info": {
   "codemirror_mode": {
    "name": "ipython",
    "version": 2.0
   },
   "file_extension": ".py",
   "mimetype": "text/x-python",
   "name": "python",
   "nbconvert_exporter": "python",
   "pygments_lexer": "ipython2",
   "version": "2.7.6"
  }
 },
 "nbformat": 4,
 "nbformat_minor": 0
}