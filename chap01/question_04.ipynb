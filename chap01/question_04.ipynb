{
 "cells": [
  {
   "cell_type": "markdown",
   "metadata": {},
   "source": [
    "#### 問題1-4\n",
    "* ２つの分数と演算の種類を受け取り、演算結果を出力する。\n",
    "* 演算が除算の場合、割った数と割られた数が分かるようにする。"
   ]
  },
  {
   "cell_type": "code",
   "execution_count": 2,
   "metadata": {},
   "outputs": [],
   "source": [
    "def print_add(a, b):\n",
    "    print('Result of Addition: {0}'.format(a + b))\n",
    "    \n",
    "\n",
    "def print_sub(a, b):\n",
    "    print('Result of Subtraction: {0}'.format(a - b))\n",
    "\n",
    "\n",
    "def print_mul(a, b):\n",
    "    print('Result of Multiply: {0}'.format(a * b))\n",
    "    \n",
    "\n",
    "def print_div(a, b):\n",
    "    print('Result of Division: {0} / {1} = {2}'.format(a, b, a / b))"
   ]
  },
  {
   "cell_type": "code",
   "execution_count": 3,
   "metadata": {},
   "outputs": [],
   "source": [
    "from fractions import Fraction\n",
    "\n",
    "\n",
    "def question4(a, b, op):\n",
    "    try:\n",
    "        a = Fraction(a)\n",
    "        b = Fraction(b)\n",
    "    except ValueError:\n",
    "        print('Invalid input.')\n",
    "        return \n",
    "    except ZeroDivisionError:\n",
    "        print('Zero division.')\n",
    "        return\n",
    "    \n",
    "    if op == 'Add':\n",
    "        return print_add(a, b)\n",
    "    if op == 'Subtract':\n",
    "        return print_sub(a, b)\n",
    "    if op == 'Multiply':\n",
    "        return print_mul(a, b)\n",
    "    if op == 'Divide':\n",
    "        return print_div(a, b)\n",
    "    \n",
    "    print('Please enter valid operation.')\n",
    "    print('Add, Subtract, Multiply, Divide')\n",
    "    return"
   ]
  },
  {
   "cell_type": "code",
   "execution_count": 4,
   "metadata": {},
   "outputs": [
    {
     "name": "stdout",
     "output_type": "stream",
     "text": [
      "Result of Addition: 1\nResult of Subtraction: 1/4\nResult of Multiply: 1/6\nResult of Division: 1/2 / 1/3 = 3/2\nResult of Division: 1/3 / 1/2 = 2/3\nPlease enter valid operation.\nAdd, Subtract, Multiply, Divide\nInvalid input.\nZero division.\n"
     ]
    }
   ],
   "source": [
    "question4('1/2', '1/2', 'Add')\n",
    "question4('1/2', '1/4', 'Subtract')\n",
    "question4('1/2', '1/3', 'Multiply')\n",
    "\n",
    "# 除算は2パターン\n",
    "question4('1/2', '1/3', 'Divide')\n",
    "question4('1/3', '1/2', 'Divide')\n",
    "\n",
    "# 不正な演算\n",
    "question4('1/3', '1/2', 'add')\n",
    "\n",
    "# 例外が発生\n",
    "question4('1 / 2', '1 / 2', 'Add')\n",
    "question4('1/0', '1/2', 'Add')"
   ]
  },
  {
   "cell_type": "code",
   "execution_count": 4,
   "metadata": {},
   "outputs": [],
   "source": [
    ""
   ]
  },
  {
   "cell_type": "code",
   "execution_count": null,
   "metadata": {},
   "outputs": [],
   "source": [
    ""
   ]
  }
 ],
 "metadata": {
  "kernelspec": {
   "display_name": "Python 2",
   "language": "python",
   "name": "python2"
  },
  "language_info": {
   "codemirror_mode": {
    "name": "ipython",
    "version": 2.0
   },
   "file_extension": ".py",
   "mimetype": "text/x-python",
   "name": "python",
   "nbconvert_exporter": "python",
   "pygments_lexer": "ipython2",
   "version": "2.7.6"
  }
 },
 "nbformat": 4,
 "nbformat_minor": 0
}