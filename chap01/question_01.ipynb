{
 "cells": [
  {
   "cell_type": "markdown",
   "metadata": {},
   "source": [
    "#### 問題1-1\n",
    "* 入力された数が奇数か偶数か判定する\n",
    "* 後続する奇数 or 偶数を9回出力する\n",
    "* 入力は、intかfloat(1.5などの少数値はNG)"
   ]
  },
  {
   "cell_type": "code",
   "execution_count": 1,
   "metadata": {},
   "outputs": [],
   "source": [
    "def is_valid_integer(x):\n",
    "    if isinstance(x, int):\n",
    "        return True\n",
    "    if isinstance(x, float):\n",
    "        return x.is_integer()\n",
    "    return False"
   ]
  },
  {
   "cell_type": "code",
   "execution_count": 2,
   "metadata": {},
   "outputs": [],
   "source": [
    "def print_numbers(init, count, diff):\n",
    "    x = init\n",
    "    for i in range(0, count):\n",
    "        x += diff\n",
    "        print(x, end=' ')"
   ]
  },
  {
   "cell_type": "code",
   "execution_count": 3,
   "metadata": {},
   "outputs": [],
   "source": [
    "def question1(x):\n",
    "    print('input integer: ')\n",
    "    \n",
    "    if not is_valid_integer(x):\n",
    "        print('{0} is invalid integer.'.format(x))\n",
    "        return\n",
    "    \n",
    "    if isinstance(x, float):\n",
    "        x = int(x)\n",
    "    \n",
    "    # 奇数か偶数か判定\n",
    "    if x % 2 == 0:\n",
    "        print('{0} is even.'.format(x))\n",
    "    else:\n",
    "        print('{0} is odd.'.format(x))\n",
    "\n",
    "    print_numbers(x, 9, 2)"
   ]
  },
  {
   "cell_type": "code",
   "execution_count": 4,
   "metadata": {},
   "outputs": [
    {
     "name": "stdout",
     "output_type": "stream",
     "text": [
      "input integer: \n1 is odd.\n3 5 7 9 11 13 15 17 19 "
     ]
    }
   ],
   "source": [
    "question1(1.0)"
   ]
  },
  {
   "cell_type": "code",
   "execution_count": null,
   "metadata": {},
   "outputs": [],
   "source": [
    ""
   ]
  }
 ],
 "metadata": {
  "kernelspec": {
   "display_name": "Python 2",
   "language": "python",
   "name": "python2"
  },
  "language_info": {
   "codemirror_mode": {
    "name": "ipython",
    "version": 2.0
   },
   "file_extension": ".py",
   "mimetype": "text/x-python",
   "name": "python",
   "nbconvert_exporter": "python",
   "pygments_lexer": "ipython2",
   "version": "2.7.6"
  }
 },
 "nbformat": 4,
 "nbformat_minor": 0
}