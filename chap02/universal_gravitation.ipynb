{
 "cells": [
  {
   "cell_type": "markdown",
   "metadata": {
    "collapsed": true,
    "deletable": true,
    "editable": true
   },
   "source": [
    "#### 万有引力"
   ]
  },
  {
   "cell_type": "markdown",
   "metadata": {
    "deletable": true,
    "editable": true
   },
   "source": [
    "万有引力の公式\n",
    "\n",
    "$\n",
    "F = \\frac{Gm_{1}m_{2}}{r^{2}}\n",
    "$\n",
    "\n",
    "$\n",
    "G(重力定数): 6.674 * 10^{-11}Nm^2kg^{-2}\\\\\n",
    "m_{1}, m_{2}: ２つの物体の質量\\\\\n",
    "r:２つの物体間の距離\n",
    "$"
   ]
  },
  {
   "cell_type": "code",
   "execution_count": 4,
   "metadata": {
    "collapsed": true,
    "deletable": true,
    "editable": true
   },
   "outputs": [],
   "source": [
    "from matplotlib import pyplot"
   ]
  },
  {
   "cell_type": "code",
   "execution_count": 5,
   "metadata": {
    "collapsed": true,
    "deletable": true,
    "editable": true
   },
   "outputs": [],
   "source": [
    "def draw_gravitational_force_and_distance(m1, m2):\n",
    "    \n",
    "    # 50m間隔で描画する\n",
    "    r_list = range(100, 1001, 50)\n",
    "    \n",
    "    # 重力定数\n",
    "    G = 6.674 * (10 ** -11)\n",
    "    \n",
    "    # 各距離(r)での、引力を求める\n",
    "    f_list = []\n",
    "    for r in r_list:\n",
    "        f = G * (m1 * m2) / (r ** 2)\n",
    "        f_list.append(f)\n",
    "    \n",
    "    # グラフを描画する\n",
    "    pyplot.plot(r_list, f_list)\n",
    "    pyplot.xlabel('Distance in meters')\n",
    "    pyplot.ylabel('Gravitational force in newtons')\n",
    "    pyplot.title('Gravitational force and distance')\n",
    "    pyplot.show()"
   ]
  },
  {
   "cell_type": "code",
   "execution_count": 6,
   "metadata": {
    "collapsed": false
   },
   "outputs": [
    {
     "data": {
      "image/png": "[encoded data removed]",
      "text/plain": [
       "<matplotlib.figure.Figure at 0x10698c9e8>"
      ]
     },
     "metadata": {},
     "output_type": "display_data"
    }
   ],
   "source": [
    "draw_gravitational_force_and_distance(0.5, 1.5)"
   ]
  },
  {
   "cell_type": "code",
   "execution_count": null,
   "metadata": {
    "collapsed": true
   },
   "outputs": [],
   "source": []
  }
 ],
 "metadata": {
  "kernelspec": {
   "display_name": "Python 3",
   "language": "python",
   "name": "python3"
  },
  "language_info": {
   "codemirror_mode": {
    "name": "ipython",
    "version": 3
   },
   "file_extension": ".py",
   "mimetype": "text/x-python",
   "name": "python",
   "nbconvert_exporter": "python",
   "pygments_lexer": "ipython3",
   "version": "3.5.0"
  }
 },
 "nbformat": 4,
 "nbformat_minor": 0
}
