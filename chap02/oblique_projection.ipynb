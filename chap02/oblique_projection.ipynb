{
 "cells": [
  {
   "cell_type": "markdown",
   "metadata": {
    "collapsed": true,
    "deletable": true,
    "editable": true
   },
   "source": [
    "#### 投射運動"
   ]
  },
  {
   "cell_type": "markdown",
   "metadata": {
    "deletable": true,
    "editable": true
   },
   "source": [
    "$\n",
    "斜方投射 の 公式\\\\\n",
    "速度:\\\\\n",
    "v_{x} = v_{0}\\cos\\theta\\\\\n",
    "v_{y} = v_{0}\\sin\\theta-gt\\\\\n",
    "位置:\\\\\n",
    "x = v_{0}\\cos\\theta t\\\\\n",
    "y = v_{0}\\sin\\theta t - \\frac{1}{2}gt^{2}\\\\\n",
    "$"
   ]
  },
  {
   "cell_type": "code",
   "execution_count": null,
   "metadata": {
    "collapsed": true
   },
   "outputs": [],
   "source": [
    "#### 上記の公式から分かること\n",
    "* 初速(v0)となす角(θ)がパラメータとなっている。\n",
    "* 水平方向に対する速度は一定。\n",
    "* 投げられた物体の位置が最も高くなるtは、vyの速度が0となる時。"
   ]
  },
  {
   "cell_type": "code",
   "execution_count": 9,
   "metadata": {
    "collapsed": true,
    "deletable": true,
    "editable": true
   },
   "outputs": [],
   "source": [
    "from matplotlib import pyplot\n",
    "import math"
   ]
  },
  {
   "cell_type": "code",
   "execution_count": 10,
   "metadata": {
    "collapsed": true,
    "deletable": true,
    "editable": true
   },
   "outputs": [],
   "source": [
    "def frange(start, final, increment):\n",
    "    \"\"\" \n",
    "    range()のfloat版。\n",
    "    :param float start: 開始値。\n",
    "    :param float final: 終了値(含まれない)。\n",
    "    :param float increment: 増分。\n",
    "    :return: float[]\n",
    "    \"\"\"\n",
    "    numbers = []\n",
    "    while start < final:\n",
    "        numbers.append(start)\n",
    "        start += increment\n",
    "    return numbers"
   ]
  },
  {
   "cell_type": "code",
   "execution_count": 11,
   "metadata": {
    "collapsed": true,
    "deletable": true,
    "editable": true
   },
   "outputs": [],
   "source": [
    "def draw_graph(x, y):\n",
    "    pyplot.plot(x, y)\n",
    "    pyplot.xlabel('')\n",
    "    pyplot.ylabel('')\n",
    "    pyplot.title('Projectile motion of a ball')"
   ]
  },
  {
   "cell_type": "code",
   "execution_count": 2,
   "metadata": {
    "collapsed": true,
    "deletable": true,
    "editable": true
   },
   "outputs": [],
   "source": [
    "def draw_gravitational_force_and_distance(u, theta):\n",
    "    \n",
    "    g = 9.8\n",
    "    theta = math.radians(theta)\n",
    "    \n",
    "    t_flight = u * math.sin(theta)/g * 2\n",
    "    intervals = frange(0, t_flight, 0.001)\n",
    "    \n",
    "    x_list = []\n",
    "    y_list = []\n",
    "    for t in intervals:\n",
    "        x_list.append(u * math.cos(theta) * t)\n",
    "        y_list.append(u * math.sin(theta) * t - 0.5 * g * t * t)\n",
    "    draw_graph(x_list, y_list)"
   ]
  },
  {
   "cell_type": "code",
   "execution_count": 18,
   "metadata": {
    "collapsed": false,
    "deletable": true,
    "editable": true
   },
   "outputs": [
    {
     "data": {
      "image/png": "[encoded data removed]",
      "text/plain": [
       "<matplotlib.figure.Figure at 0x112ba96a0>"
      ]
     },
     "metadata": {},
     "output_type": "display_data"
    }
   ],
   "source": [
    "draw_trajectory(25, 60)\n",
    "pyplot.show()"
   ]
  },
  {
   "cell_type": "code",
   "execution_count": null,
   "metadata": {
    "collapsed": true,
    "deletable": true,
    "editable": true
   },
   "outputs": [],
   "source": [
    ""
   ]
  }
 ],
 "metadata": {
  "kernelspec": {
   "display_name": "Python 3",
   "language": "python",
   "name": "python3"
  },
  "language_info": {
   "codemirror_mode": {
    "name": "ipython",
    "version": 3.0
   },
   "file_extension": ".py",
   "mimetype": "text/x-python",
   "name": "python",
   "nbconvert_exporter": "python",
   "pygments_lexer": "ipython3",
   "version": "3.5.0"
  }
 },
 "nbformat": 4,
 "nbformat_minor": 0
}